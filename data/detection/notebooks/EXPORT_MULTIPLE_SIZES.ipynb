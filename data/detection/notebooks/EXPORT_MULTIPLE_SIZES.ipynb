{
 "cells": [
  {
   "cell_type": "markdown",
   "metadata": {},
   "source": [
    "# Export YOLOv8 Model at Multiple Sizes (320, 416, 640)\n",
    "\n",
    "This notebook exports the trained YOLOv8 model to ONNX format at different input sizes for performance optimization."
   ]
  },
  {
   "cell_type": "markdown",
   "metadata": {},
   "source": [
    "## 1. Install Dependencies"
   ]
  },
  {
   "cell_type": "code",
   "execution_count": null,
   "metadata": {},
   "outputs": [],
   "source": [
    "!pip install ultralytics"
   ]
  },
  {
   "cell_type": "markdown",
   "metadata": {},
   "source": [
    "## 2. Upload Model File\n",
    "\n",
    "Upload `unified-detection-v7.pt` to Colab using the file browser on the left."
   ]
  },
  {
   "cell_type": "code",
   "execution_count": null,
   "metadata": {},
   "outputs": [],
   "source": [
    "import os\n",
    "from ultralytics import YOLO\n",
    "\n",
    "# Check if model file exists\n",
    "model_path = 'unified-detection-v7.pt'\n",
    "if os.path.exists(model_path):\n",
    "    print(f\"✅ Found model file: {model_path}\")\n",
    "    print(f\"   Size: {os.path.getsize(model_path) / 1024 / 1024:.2f} MB\")\n",
    "else:\n",
    "    print(\"❌ Model file not found!\")\n",
    "    print(\"Please upload unified-detection-v7.pt to Colab\")"
   ]
  },
  {
   "cell_type": "markdown",
   "metadata": {},
   "source": [
    "## 3. Export Models at Different Sizes"
   ]
  },
  {
   "cell_type": "code",
   "execution_count": null,
   "metadata": {},
   "outputs": [],
   "source": [
    "# Load the model\n",
    "model = YOLO(model_path)\n",
    "print(\"Model loaded successfully!\")\n",
    "\n",
    "# Export at different sizes\n",
    "sizes = [320, 416, 640]\n",
    "exported_files = []\n",
    "\n",
    "for size in sizes:\n",
    "    print(f\"\\n{'='*60}\")\n",
    "    print(f\"Exporting model at {size}x{size}...\")\n",
    "    \n",
    "    # Export to ONNX\n",
    "    onnx_path = model.export(\n",
    "        format='onnx',\n",
    "        imgsz=size,\n",
    "        simplify=True,\n",
    "        opset=12,  # Compatible with ONNX Runtime Mobile\n",
    "        batch=1,\n",
    "        dynamic=False  # Fixed size for mobile optimization\n",
    "    )\n",
    "    \n",
    "    # Rename to include size in filename\n",
    "    import shutil\n",
    "    output_name = f'unified-detection-v7-{size}.onnx'\n",
    "    \n",
    "    # Handle both Path and string return types\n",
    "    if hasattr(onnx_path, 'name'):\n",
    "        shutil.move(str(onnx_path), output_name)\n",
    "    else:\n",
    "        shutil.move(onnx_path, output_name)\n",
    "    \n",
    "    exported_files.append(output_name)\n",
    "    \n",
    "    print(f\"✅ Exported: {output_name}\")\n",
    "    print(f\"   Size: {os.path.getsize(output_name) / 1024 / 1024:.2f} MB\")"
   ]
  },
  {
   "cell_type": "markdown",
   "metadata": {},
   "source": [
    "## 4. Verify Exported Models"
   ]
  },
  {
   "cell_type": "code",
   "execution_count": null,
   "metadata": {},
   "outputs": [],
   "source": [
    "print(\"\\n🎉 Export Summary:\")\n",
    "print(\"=\"*60)\n",
    "\n",
    "for filename in exported_files:\n",
    "    if os.path.exists(filename):\n",
    "        size_mb = os.path.getsize(filename) / 1024 / 1024\n",
    "        print(f\"✅ {filename}: {size_mb:.2f} MB\")\n",
    "    else:\n",
    "        print(f\"❌ {filename}: Not found\")\n",
    "\n",
    "print(\"\\n📥 Download these files and copy them to:\")\n",
    "print(\"   - android/src/main/assets/\")\n",
    "print(\"   - example/assets/\")"
   ]
  },
  {
   "cell_type": "markdown",
   "metadata": {},
   "source": [
    "## 5. Create ZIP for Easy Download"
   ]
  },
  {
   "cell_type": "code",
   "execution_count": null,
   "metadata": {},
   "outputs": [],
   "source": [
    "import zipfile\n",
    "\n",
    "# Create a zip file with all exported models\n",
    "zip_filename = 'onnx_models_all_sizes.zip'\n",
    "\n",
    "with zipfile.ZipFile(zip_filename, 'w') as zipf:\n",
    "    for filename in exported_files:\n",
    "        if os.path.exists(filename):\n",
    "            zipf.write(filename)\n",
    "            print(f\"Added {filename} to zip\")\n",
    "\n",
    "print(f\"\\n✅ Created {zip_filename}\")\n",
    "print(f\"   Size: {os.path.getsize(zip_filename) / 1024 / 1024:.2f} MB\")\n",
    "print(\"\\n📥 Download this zip file for all models at once!\")"
   ]
  },
  {
   "cell_type": "markdown",
   "metadata": {},
   "source": [
    "## 6. Test Model Loading (Optional)"
   ]
  },
  {
   "cell_type": "code",
   "execution_count": null,
   "metadata": {},
   "outputs": [],
   "source": [
    "# Optional: Test that ONNX models can be loaded\n",
    "try:\n",
    "    import onnxruntime as ort\n",
    "    \n",
    "    for size in sizes:\n",
    "        model_file = f'unified-detection-v7-{size}.onnx'\n",
    "        if os.path.exists(model_file):\n",
    "            session = ort.InferenceSession(model_file)\n",
    "            input_name = session.get_inputs()[0].name\n",
    "            input_shape = session.get_inputs()[0].shape\n",
    "            output_shape = session.get_outputs()[0].shape\n",
    "            \n",
    "            print(f\"\\n{model_file}:\")\n",
    "            print(f\"  Input: {input_name} {input_shape}\")\n",
    "            print(f\"  Output: {output_shape}\")\n",
    "            print(f\"  ✅ Model loads successfully!\")\n",
    "            \n",
    "except ImportError:\n",
    "    print(\"onnxruntime not installed, skipping verification\")\n",
    "except Exception as e:\n",
    "    print(f\"Error testing models: {e}\")"
   ]
  }
 ],
 "metadata": {
  "kernelspec": {
   "display_name": "Python 3",
   "language": "python",
   "name": "python3"
  },
  "language_info": {
   "codemirror_mode": {
    "name": "ipython",
    "version": 3
   },
   "file_extension": ".py",
   "mimetype": "text/x-python",
   "name": "python",
   "nbconvert_exporter": "python",
   "pygments_lexer": "ipython3",
   "version": "3.8.0"
  }
 },
 "nbformat": 4,
 "nbformat_minor": 4
}